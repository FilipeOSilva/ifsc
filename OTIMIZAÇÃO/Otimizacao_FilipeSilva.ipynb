{
 "cells": [
  {
   "cell_type": "markdown",
   "metadata": {},
   "source": [
    "# PFL0091 OTIMIZAÇÃO - TRABALHO PARTICO DE OTIMIZAÇÃO\n",
    "\n",
    "Nome: Filipe da Silva\n",
    "\n",
    "Matricula:  20232900020\n",
    "\n",
    "## 1. Problema\n",
    "\n",
    "Vamos considerar o seguinte cenário: um grupo de pessoas precisa viajar para um local específico, onde se encontrarão e se hospedarão até um evento. Após o evento, eles retornarão às suas cidades de origem. Suponhamos que cada pessoa deste grupo viaje de avião, partindo de diferentes lugares do Brasil, com o destino sendo o Aeroporto de Guarulhos. Eles aguardarão a chegada do último membro do grupo para então pegarem um transporte juntos até o evento em São Paulo. Após o término do evento, eles voltarão ao Aeroporto de Guarulhos, de onde cada um seguirá para sua cidade de origem.\n",
    "\n",
    "Agora, imaginemos que temos a responsabilidade de organizar todas as viagens, visando minimizar o tempo de espera de cada pessoa no aeroporto (afinal, pagaremos um valor por hora de espera para despesas pessoais) e buscando os preços mais baixos em cada passagem.\n",
    "\n",
    "## 2. Motivação\n",
    "\n",
    "Como observamos, este é um problema com múltiplas soluções, onde podemos apenas ajustar os parâmetros de forma visual, sem garantia de obter o melhor valor possível. Além disso, podemos enfrentar complicações adicionais, como a necessidade de pagar uma diária extra caso o retorno passe de um determinado horário ou a falta de transporte disponível para o retorno.\n",
    "\n",
    "É evidente que a modelagem matemática desses dados para criar um sistema não será simples. Qualquer alteração exigirá um esforço significativo para desenvolver um novo modelo, tornando a gestão do sistema mais desafiadora e complexa.\n",
    "\n",
    "## 3. Justificar o método de otimização escolhido para resolver o problema proposto\n",
    "\n",
    "Decidiu-se utilizar Algoritimos Geneticos para solução, uma vez que temos um problema complexo e com múltiplas variáveis, temos que tentar buscar uma solução ótima, ou quase otima, para um problema de multiplas dimensões, como custos de viagem, tempo de espera, horários de voo e disponibilidade de transporte de forma a otimizar todas essas dimensões simultaneamente. \n",
    "\n",
    "Outra vantagem é que os Algoritimos Genticos possuem uma grande adaptabilidade, pois podem lidar bem com mudanças nas condições ou restrições do problema. Isso os torna adequados para situações onde as informações podem ser dinâmicas ou imprecisas. Além de ser capaz de explorar o espaço de soluções de forma abrangente, permitindo encontrar soluções que podem não ser facilmente identificadas por métodos tradicionais de otimização.\n",
    "\n",
    "Em resumo, algoritmos genéticos são uma ferramenta poderosa e versátil para resolver problemas de otimização complexos, como os problemas de viagem, oferecendo uma abordagem adaptativa e eficiente para encontrar soluções ótimas ou quase ótimas em um espaço de soluções vasto e dinâmico."
   ]
  },
  {
   "cell_type": "markdown",
   "metadata": {},
   "source": [
    "## 4. Resolução do problema – algoritmo\n",
    "\n",
    "Primeiramente iremos fazer a importação das bibliotecas e criamos a lista das pessoas que irão viajar com a sua origem. Após iremos importa os dados referente a origem e distino do voo, com o horário de partida e chegada, e o valor da passagem area."
   ]
  },
  {
   "cell_type": "code",
   "execution_count": 13,
   "metadata": {},
   "outputs": [],
   "source": [
    "import time\n",
    "import random\n",
    "\n",
    "peoples = [('Amanda', 'CWB'),\n",
    "           ('Pedro', 'GIG'),\n",
    "           ('Marcos', 'POA'),\n",
    "           ('Priscila', 'FLN'),\n",
    "           ('Jessica', 'CNF'),\n",
    "           ('Paulo', 'GYN')]\n",
    "\n",
    "dest = 'GRU'\n",
    "\n",
    "flights = {}\n",
    "for row in open('flights.txt'):\n",
    "    #print(linha)\n",
    "    src, dest, departure, arrival, price = row.split(',')\n",
    "    flights.setdefault((src, dest), [])\n",
    "    flights[(src, dest)].append((departure, arrival, int(price)))"
   ]
  },
  {
   "cell_type": "markdown",
   "metadata": {},
   "source": [
    "Iremos criar um conjunto de funções que serviram de auxilio, sendo uma para transformar o horas em minutos e a outra para imprimir uma agenda de voo."
   ]
  },
  {
   "cell_type": "code",
   "execution_count": 14,
   "metadata": {},
   "outputs": [],
   "source": [
    "def print_schedule(sched):\n",
    "    id_flight = -1\n",
    "    for i in range(len(sched) // 2):\n",
    "        name = peoples[i][0] \n",
    "        src = peoples[i][1]\n",
    "        id_flight += 1\n",
    "        going = flights[(src, dest)][sched[id_flight]]\n",
    "        id_flight += 1\n",
    "        ret = flights[(dest, src)][sched[id_flight]]\n",
    "        print('%10s%10s %5s-%5s R$%3s %5s-%5s R$%3s' % (name, src, going[0], going[1], going[2],\n",
    "                                                       ret[0], ret[1], ret[2]))\n",
    "\n",
    "def get_min(hour):\n",
    "    x = time.strptime(hour, '%H:%M')\n",
    "    return x[3] * 60 + x[4]\n",
    "\n"
   ]
  },
  {
   "cell_type": "markdown",
   "metadata": {},
   "source": [
    "É necessário ter o dominio do problema, no caso temos, do arquivo importado, 10 voos por dia, sendo que cada pessoa tem que pegar 2 deles."
   ]
  },
  {
   "cell_type": "code",
   "execution_count": 15,
   "metadata": {},
   "outputs": [],
   "source": [
    "domain = [(0,9)] * (len(peoples) * 2)"
   ]
  },
  {
   "cell_type": "markdown",
   "metadata": {},
   "source": [
    "Agora iremos definir a função custo, que irá levar em consideração, o tempo de partida e de chegada, mais o valor do custo da passagem. Além do tempo de espera. Além de ter um penalizador pelo tempo de espera."
   ]
  },
  {
   "cell_type": "code",
   "execution_count": 16,
   "metadata": {},
   "outputs": [],
   "source": [
    "def func_cost(solve):\n",
    "    total_price = 0\n",
    "    last_arrival = 0\n",
    "    first_departure = 1439\n",
    "    \n",
    "    id_flight = -1\n",
    "    for i in range(len(solve) // 2):\n",
    "        src = peoples[i][1]\n",
    "        id_flight += 1\n",
    "        going = flights[(src, dest)][solve[id_flight]]\n",
    "        id_flight += 1\n",
    "        ret = flights[(dest, src)][solve[id_flight]]\n",
    "        \n",
    "        total_price += going[2]\n",
    "        total_price += ret[2]\n",
    "        \n",
    "        if last_arrival < get_min(going[1]):\n",
    "            last_arrival = get_min(going[1])\n",
    "            \n",
    "        if first_departure > get_min(ret[0]):\n",
    "            first_departure = get_min(ret[0])\n",
    "         \n",
    "    total_wait = 0\n",
    "    id_flight = -1\n",
    "    for i in range(len(solve) // 2):\n",
    "        src = peoples[i][1]\n",
    "        id_flight += 1\n",
    "        going = flights[(src, dest)][solve[id_flight]]\n",
    "        id_flight += 1\n",
    "        ret = flights[(dest, src)][solve[id_flight]]\n",
    "        \n",
    "        total_wait += last_arrival - get_min(going[1])\n",
    "        total_wait += get_min(ret[0]) - first_departure\n",
    "        \n",
    "    if last_arrival > first_departure:\n",
    "        total_price += 50\n",
    "        \n",
    "    return total_price + total_wait\n",
    "\n"
   ]
  },
  {
   "cell_type": "markdown",
   "metadata": {},
   "source": [
    "A seguir temos os 3 metodos utilizados para ter o Algoritmo genetico."
   ]
  },
  {
   "cell_type": "code",
   "execution_count": 12,
   "metadata": {},
   "outputs": [
    {
     "name": "stdout",
     "output_type": "stream",
     "text": [
      "2633\n"
     ]
    }
   ],
   "source": [
    "def mutation(domain, step, solution):\n",
    "    i = random.randint(0, len(domain) - 1)\n",
    "    mutante = solution\n",
    "    \n",
    "    if random.random() < 0.5:\n",
    "        if solution[i] != domain[i][0]:\n",
    "            mutante = solution[0:i] + [solution[i] - step] + solution[i + 1:]\n",
    "    else:\n",
    "        if solution[i] != domain[i][1]:\n",
    "            mutante = solution[0:i] + [solution[i] + step] + solution[i + 1:]\n",
    "    \n",
    "    return mutante\n",
    "\n",
    "def crossing(domain, solution1, solution2):\n",
    "    i = random.randint(1, len(domain) - 2)\n",
    "    return solution1[0:i] + solution2[i:]\n",
    "\n",
    "def genetic_algorithm(domain, func_cost, tam_population = 100, step = 1,\n",
    "             prob_mutation = 0.2, elitism = 0.2, num_generations = 500):\n",
    "    \n",
    "    population = []\n",
    "    for i in range(tam_population):\n",
    "        solution = [random.randint(domain[i][0], domain[i][1]) for i in range(len(domain))]\n",
    "        population.append(solution)\n",
    "    \n",
    "    num_elitism = int(elitism * tam_population)\n",
    "    \n",
    "    for i in range(num_generations):\n",
    "        costs = [(func_cost(individual), individual) for individual in population]\n",
    "        costs.sort()\n",
    "        ordained_individuals = [individual for (cost, individual) in costs]\n",
    "        \n",
    "        population = ordained_individuals[0:num_elitism]\n",
    "        \n",
    "        while len(population) < tam_population:\n",
    "            if random.random() < prob_mutation:\n",
    "                m = random.randint(0, num_elitism)\n",
    "                population.append(mutation(domain, step, ordained_individuals[m]))\n",
    "            else:\n",
    "                c1 = random.randint(0, num_elitism)\n",
    "                c2 = random.randint(0, num_elitism)\n",
    "                population.append(crossing(domain, ordained_individuals[c1], \n",
    "                                            ordained_individuals[c2]))\n",
    "                \n",
    "    return costs[0][1]\n",
    "\n",
    "solution_genetic_algorithm = genetic_algorithm(domain, func_cost)\n",
    "cost_genetic_algorithm = func_cost(solution_genetic_algorithm)\n",
    "\n",
    "print(cost_genetic_algorithm)"
   ]
  },
  {
   "cell_type": "code",
   "execution_count": null,
   "metadata": {},
   "outputs": [],
   "source": [
    "print_schedule(solution_genetic_algorithm)"
   ]
  },
  {
   "cell_type": "markdown",
   "metadata": {},
   "source": [
    "## 5. Referencias\n",
    "\n",
    "* https://www.feis.unesp.br/Home/departamentos/engenhariaeletrica/pos-graduacao/234-dissertacao_erico.pdf\n",
    "* https://www.youtube.com/watch?v=_GuJE1AjAZ4\n",
    "* https://www.ifsc.edu.br/documents/30701/523474/livro_otimizacao_parametrica_com_computacao_evolutiva.pdf/6ad9650f-9bfb-4592-a8ea-9ad8934ba085"
   ]
  }
 ],
 "metadata": {
  "kernelspec": {
   "display_name": ".venv",
   "language": "python",
   "name": "python3"
  },
  "language_info": {
   "codemirror_mode": {
    "name": "ipython",
    "version": 3
   },
   "file_extension": ".py",
   "mimetype": "text/x-python",
   "name": "python",
   "nbconvert_exporter": "python",
   "pygments_lexer": "ipython3",
   "version": "3.10.12"
  }
 },
 "nbformat": 4,
 "nbformat_minor": 2
}
